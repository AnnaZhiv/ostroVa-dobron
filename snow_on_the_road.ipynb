{
 "cells": [
  {
   "cell_type": "code",
   "execution_count": 33,
   "id": "73bd5cc1-94f5-487e-9fc8-f86f4bf63317",
   "metadata": {},
   "outputs": [],
   "source": [
    "import numpy as np\n",
    "# фиксируем карту города\n",
    "vertexes = range(34) # вершины (перекрестки)\n",
    "edges = {(0,1) : 117, (0,12) : 224, (1,10) : 1, (1,2) : 260, (2,9) : 118, (2,3) : 255, (3,8) : 118, (3,4) : 192, (4,7) : 118, (4,5) : 540,\n",
    "         (5,6) : 118, (6,7) : 540, (6,23) : 120, (7,8) : 192, (7,18) : 120, (8,17) : 120, (8,9) : 255, (9,10) : 260, (9,16) : 120, (10,11) : 53,\n",
    "         (11,12) : 117, (11,15) : 53, (12,13) : 142, (13,33) : 250, (13,14) : 117, (14,32) : 250, (14,30) : 260, (14,15) : 53, (15,16) : 260,\n",
    "         (16,17) : 255, (16,30) : 128, (17,18) : 192, (17,29) : 128, (18,19) : 128, (18,21) : 365, (19,20) : 365, (19,27) : 250, (19,29) : 192, \n",
    "         (20,21) : 128, (20,24) : 175, (20,26) : 250, (21,23) : 175, (23,24) : 128, (24,25) : 250, (25,26) : 175, (26,27) : 365, (27,28) : 192, \n",
    "         (28,31) : 255, (31,32) : 260, (32,33) : 117} # ключ -- ребро (дорога). значение -- длина дороги в метрах (с карты)\n",
    "vertexes_hieght = {0 : 40, 1 : 44, 2 : 48, 3 : 51, 4 : 51, 5 : 60, 6 : 63, 7 : 55, 8 : 51, 9 : 49, 10 : 45, 11 : 42, 12 : 41, 13 : 39, 14 : 42,\n",
    "                   15 : 43, 16 : 48, 17 : 53, 18 : 54, 19 : 52, 20 : 58,  21 : 60, 22 : 60, 23 : 60, 24 : 62, 25 : 60, 26 : 59, 27 : 53, 28 : 49,\n",
    "                   29 : 52, 30 : 42, 31 : 46, 32 : 44, 33 : 43} # ключи -- вершины. значение -- высота (взято с карты\n",
    "ground_level = {} # ключи -- ребра. значение -- список высот, отснятых каждые 5 метров \n",
    "        # мы предположили, что высоты улицы равномерные от высоты одного перекрестка, до высоты другого\n",
    "for edge in edges.keys():\n",
    "    ground_level[edge] = np.linspace(vertexes_hieght[edge[0]],vertexes_hieght[edge[1]], edges[edge]//5)\n",
    "    \n",
    "# тут можно реализовать алгоритм почтальона для построения оптимального пути\n",
    "def get_optimal_path(vertexes, edges, start_vertex):\n",
    "    pass\n",
    "    \n",
    "# проверяем какие улицы заснежены\n",
    "def get_snowed_streets(path, ground_level, snow_level, crit_level=0.2): # path -- sequence of edges. # ground_level -- dict {edge : [level1,level2...]}. \n",
    "    # snow_level -- [[level1,level2...], [level1,level2,..], [...], ...]\n",
    "    bad_edges = {}\n",
    "    for edge_ind in range(len(path)):\n",
    "        edge_estimation = [snow_level[edge_ind][i] - ground_level[path[edge_ind]][i] for i in range(len(snow_level[edge_ind]))]\n",
    "        if sum([int(estim > crit_level) for estim in edge_estimation]) > 0:\n",
    "            bad_edges[path[edge_ind]] = edge_estimation\n",
    "    return bad_edges"
   ]
  },
  {
   "cell_type": "code",
   "execution_count": 36,
   "id": "a7a7cf72-f7e6-47d2-8796-c99f59253fd1",
   "metadata": {},
   "outputs": [],
   "source": [
    "# предположим, что облетаем все улицы подряд. нагенирируем случайные наблюдения\n",
    "path = list(edges.keys())\n",
    "snow_level = [[ground_level[edge][i] + 0.201*np.random.rand() for i in range(edges[edge]//5)] for edge in path]\n",
    "res = get_snowed_streets(path, ground_level, snow_level)"
   ]
  },
  {
   "cell_type": "code",
   "execution_count": null,
   "id": "b034ac3c-1c01-44da-96f4-1353739d8483",
   "metadata": {},
   "outputs": [],
   "source": []
  }
 ],
 "metadata": {
  "kernelspec": {
   "display_name": "Python [conda env:base] *",
   "language": "python",
   "name": "conda-base-py"
  },
  "language_info": {
   "codemirror_mode": {
    "name": "ipython",
    "version": 3
   },
   "file_extension": ".py",
   "mimetype": "text/x-python",
   "name": "python",
   "nbconvert_exporter": "python",
   "pygments_lexer": "ipython3",
   "version": "3.13.5"
  }
 },
 "nbformat": 4,
 "nbformat_minor": 5
}
