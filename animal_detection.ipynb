{
  "nbformat": 4,
  "nbformat_minor": 0,
  "metadata": {
    "colab": {
      "provenance": []
    },
    "kernelspec": {
      "name": "python3",
      "display_name": "Python 3"
    },
    "language_info": {
      "name": "python"
    }
  },
  "cells": [
    {
      "cell_type": "code",
      "execution_count": 149,
      "metadata": {
        "id": "623fWAf2a3dk"
      },
      "outputs": [],
      "source": [
        "import numpy as np\n",
        "import cv2 as cv\n",
        "from matplotlib import pyplot as plt\n",
        "\n",
        "img = cv.imread('bear3.jpg') # первая координата -- вертикаль. Вторая горизонталь. третья -- rgb. Начало координат -- левый верхний угол\n",
        "assert img is not None, \"file could not be read\"\n",
        "\n",
        "img[np.where((img[:,:,0] > 200) & (img[:,:,1] > 200))] = [255,255,255]\n",
        "img[np.where(img[:,:,0] > 240)] = [255,255,255]\n",
        "\n",
        "gray = cv.cvtColor(img,cv.COLOR_BGR2GRAY)\n",
        "ret, thresh = cv.threshold(gray,220,255,cv.THRESH_BINARY_INV)#+cv.THRESH_OTSU)"
      ]
    },
    {
      "cell_type": "code",
      "source": [
        "# noise removal\n",
        "kernel = np.ones((3,3),np.uint8)\n",
        "opening = cv.morphologyEx(thresh,cv.MORPH_OPEN,kernel, iterations = 2)\n",
        "\n",
        "# sure background area\n",
        "sure_bg = cv.dilate(opening,kernel,iterations=3)\n",
        "\n",
        "# Finding sure foreground area\n",
        "dist_transform = cv.distanceTransform(opening,cv.DIST_L2,5)\n",
        "ret, sure_fg = cv.threshold(dist_transform,0.7*dist_transform.max(),255,0)\n",
        "\n",
        "# Finding unknown region\n",
        "sure_fg = np.uint8(sure_fg)\n",
        "unknown = cv.subtract(sure_bg,sure_fg)"
      ],
      "metadata": {
        "id": "767o_43Xa8TZ"
      },
      "execution_count": 150,
      "outputs": []
    },
    {
      "cell_type": "code",
      "source": [
        "# Marker labelling\n",
        "ret, markers = cv.connectedComponents(sure_fg)\n",
        "\n",
        "# Add one to all labels so that sure background is not 0, but 1\n",
        "markers = markers+1\n",
        "\n",
        "# Now, mark the region of unknown with zero\n",
        "markers[unknown==255] = 0"
      ],
      "metadata": {
        "id": "64beortofKrC"
      },
      "execution_count": 151,
      "outputs": []
    },
    {
      "cell_type": "code",
      "source": [
        "markers = cv.watershed(img,markers)\n",
        "img=img[1:-1,1:-1,:] # просто избавляемся от шумной границы\n",
        "markers=markers[1:-1,1:-1] # просто избавляемся от шумной границы\n",
        "labels, counts = np.unique(markers, return_counts=True) # запоминаем сколько объектов (меток) и сколько пикселей имеют эти метки\n",
        "background_label = labels[np.argmax(counts)] # больше всего пикселей имеют метку фона"
      ],
      "metadata": {
        "id": "Zwv4RFnNgXLX"
      },
      "execution_count": 152,
      "outputs": []
    },
    {
      "cell_type": "code",
      "source": [
        "def find_size_of_uninterrupted_label(markers, label, axis): # функция защищает от ситуации разрывного объекта (зверь должен быть непрерывным)\n",
        "  max_uninterrupted_len = 0\n",
        "  current_len = 0\n",
        "  if axis:\n",
        "    markers = markers.copy()\n",
        "    markers = np.transpose(markers)\n",
        "  for i in markers:\n",
        "    for j in i:\n",
        "      if j != label:\n",
        "         max_uninterrupted_len = max(max_uninterrupted_len, current_len)\n",
        "         current_len = 0\n",
        "      else:\n",
        "        current_len += 1\n",
        "  return max_uninterrupted_len\n",
        "\n",
        "objects_sizes = [] # для каждой метки кроме фона храним 2 числа -- ширину и длину объекта в пикселях\n",
        "for label in labels:\n",
        "  if label == background_label:\n",
        "    continue # не считаем размеры фона\n",
        "  # чтобы не перебирать все подряд, работаем тольо внури прямоугольника, содержащего данную метку\n",
        "  img_short = markers[min(np.where(markers==label)[0]) : max(np.where(markers==label)[0]),\n",
        "                   min(np.where(markers==label)[1]) : max(np.where(markers==label)[1])]\n",
        "  objects_sizes.append((find_size_of_uninterrupted_label(img_short, label, 1), find_size_of_uninterrupted_label(img_short, label, 1)))\n",
        "\n"
      ],
      "metadata": {
        "id": "oYyqJwXcVuHb"
      },
      "execution_count": 153,
      "outputs": []
    },
    {
      "cell_type": "code",
      "source": [
        "picture_size = (20, 20) # (в метрах) ширина (вертикаль) и длина (горизонталь) местности, запечатленной на картинке (зависит от высоты полета и от угла обзора камеры)\n",
        "critical_size = (2.1, 1) # (в метрах) ширина (вертикаль) и длина (горизонталь) крупного животного\n",
        "anumal_count = 0 # определяем сколько крупных животых на картинке\n",
        "for size in objects_sizes:\n",
        "  length = picture_size[1]/img.shape[1]*size[0] # длина (горизонталь) объекта в мтрах\n",
        "  width = picture_size[0]/img.shape[0]*size[1] # ширина (вертикаль) объекта в мтрах\n",
        "  if length > critical_size[1] and width > critical_size[0]:\n",
        "    anumal_count += 1\n",
        "print('Количество крупных хищников, обнаруженных на фото, равно ', anumal_count)"
      ],
      "metadata": {
        "colab": {
          "base_uri": "https://localhost:8080/"
        },
        "id": "akbvV0u2DfGr",
        "outputId": "50231322-2e0a-4e0e-bd4d-8c160240ce98"
      },
      "execution_count": 154,
      "outputs": [
        {
          "output_type": "stream",
          "name": "stdout",
          "text": [
            "Количество крупных хищников, обнаруженных на фото, равно  3\n"
          ]
        }
      ]
    },
    {
      "cell_type": "code",
      "source": [],
      "metadata": {
        "id": "Qo3PKQKnP4Kb"
      },
      "execution_count": null,
      "outputs": []
    }
  ]
}